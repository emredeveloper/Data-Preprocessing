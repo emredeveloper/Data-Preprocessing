{
  "nbformat": 4,
  "nbformat_minor": 0,
  "metadata": {
    "colab": {
      "provenance": [],
      "gpuType": "T4",
      "authorship_tag": "ABX9TyPSzsQd27WwWzgBac6v7Vb9",
      "include_colab_link": true
    },
    "kernelspec": {
      "name": "python3",
      "display_name": "Python 3"
    },
    "language_info": {
      "name": "python"
    },
    "accelerator": "GPU"
  },
  "cells": [
    {
      "cell_type": "markdown",
      "metadata": {
        "id": "view-in-github",
        "colab_type": "text"
      },
      "source": [
        "<a href=\"https://colab.research.google.com/github/emredeveloper/Data-Preprocessing/blob/master/Racing_Bar.ipynb\" target=\"_parent\"><img src=\"https://colab.research.google.com/assets/colab-badge.svg\" alt=\"Open In Colab\"/></a>"
      ]
    },
    {
      "cell_type": "code",
      "execution_count": 1,
      "metadata": {
        "colab": {
          "base_uri": "https://localhost:8080/"
        },
        "id": "FK6Nt1M_7Jiu",
        "outputId": "c31ff700-ac4c-46e8-a33b-20532c18db14"
      },
      "outputs": [
        {
          "output_type": "stream",
          "name": "stdout",
          "text": [
            "Collecting bar_chart_race\n",
            "  Downloading bar_chart_race-0.1.0-py3-none-any.whl (156 kB)\n",
            "\u001b[2K     \u001b[90m━━━━━━━━━━━━━━━━━━━━━━━━━━━━━━━━━━━━━━━━\u001b[0m \u001b[32m156.8/156.8 kB\u001b[0m \u001b[31m2.2 MB/s\u001b[0m eta \u001b[36m0:00:00\u001b[0m\n",
            "\u001b[?25hRequirement already satisfied: pandas>=0.24 in /usr/local/lib/python3.10/dist-packages (from bar_chart_race) (2.0.3)\n",
            "Requirement already satisfied: matplotlib>=3.1 in /usr/local/lib/python3.10/dist-packages (from bar_chart_race) (3.7.1)\n",
            "Requirement already satisfied: contourpy>=1.0.1 in /usr/local/lib/python3.10/dist-packages (from matplotlib>=3.1->bar_chart_race) (1.2.1)\n",
            "Requirement already satisfied: cycler>=0.10 in /usr/local/lib/python3.10/dist-packages (from matplotlib>=3.1->bar_chart_race) (0.12.1)\n",
            "Requirement already satisfied: fonttools>=4.22.0 in /usr/local/lib/python3.10/dist-packages (from matplotlib>=3.1->bar_chart_race) (4.51.0)\n",
            "Requirement already satisfied: kiwisolver>=1.0.1 in /usr/local/lib/python3.10/dist-packages (from matplotlib>=3.1->bar_chart_race) (1.4.5)\n",
            "Requirement already satisfied: numpy>=1.20 in /usr/local/lib/python3.10/dist-packages (from matplotlib>=3.1->bar_chart_race) (1.25.2)\n",
            "Requirement already satisfied: packaging>=20.0 in /usr/local/lib/python3.10/dist-packages (from matplotlib>=3.1->bar_chart_race) (24.0)\n",
            "Requirement already satisfied: pillow>=6.2.0 in /usr/local/lib/python3.10/dist-packages (from matplotlib>=3.1->bar_chart_race) (9.4.0)\n",
            "Requirement already satisfied: pyparsing>=2.3.1 in /usr/local/lib/python3.10/dist-packages (from matplotlib>=3.1->bar_chart_race) (3.1.2)\n",
            "Requirement already satisfied: python-dateutil>=2.7 in /usr/local/lib/python3.10/dist-packages (from matplotlib>=3.1->bar_chart_race) (2.8.2)\n",
            "Requirement already satisfied: pytz>=2020.1 in /usr/local/lib/python3.10/dist-packages (from pandas>=0.24->bar_chart_race) (2023.4)\n",
            "Requirement already satisfied: tzdata>=2022.1 in /usr/local/lib/python3.10/dist-packages (from pandas>=0.24->bar_chart_race) (2024.1)\n",
            "Requirement already satisfied: six>=1.5 in /usr/local/lib/python3.10/dist-packages (from python-dateutil>=2.7->matplotlib>=3.1->bar_chart_race) (1.16.0)\n",
            "Installing collected packages: bar_chart_race\n",
            "Successfully installed bar_chart_race-0.1.0\n"
          ]
        }
      ],
      "source": [
        "!pip install bar_chart_race"
      ]
    },
    {
      "cell_type": "code",
      "source": [
        "import bar_chart_race as bcr\n",
        "df = bcr.load_dataset('covid19_tutorial')\n",
        "bcr.bar_chart_race(\n",
        "    df=df,\n",
        "    filename='covid19_racingbar.mp4',\n",
        "    orientation='h',\n",
        "    sort='desc',\n",
        "    n_bars=6,\n",
        "    fixed_order=False,\n",
        "    fixed_max=True,\n",
        "    steps_per_period=10,\n",
        "    interpolate_period=False,\n",
        "    label_bars=True,\n",
        "    bar_size=.95,\n",
        "    period_label={'x': .99, 'y': .25, 'ha': 'right', 'va': 'center'},\n",
        "    period_fmt='%B %d, %Y',\n",
        "    period_summary_func=lambda v, r: {'x': .99, 'y': .18,\n",
        "                                      's': f'Total deaths: {v.nlargest(6).sum():,.0f}',\n",
        "                                      'ha': 'right', 'size': 8, 'family': 'Courier New'},\n",
        "    perpendicular_bar_func='median',\n",
        "    period_length=500,\n",
        "    figsize=(5, 3),\n",
        "    dpi=144,\n",
        "    cmap='dark12',\n",
        "    title='COVID-19 ülkelere göre ölümler',\n",
        "    title_size='',\n",
        "    bar_label_size=7,\n",
        "    tick_label_size=7,\n",
        "    shared_fontdict={'family' : 'Helvetica', 'color' : '.1'},\n",
        "    scale='linear',\n",
        "    writer=None,\n",
        "    fig=None,\n",
        "    bar_kwargs={'alpha': .7},\n",
        "    filter_column_colors=False)"
      ],
      "metadata": {
        "id": "yPRbBs_b7Xaw"
      },
      "execution_count": null,
      "outputs": []
    }
  ]
}