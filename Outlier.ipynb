{
  "nbformat": 4,
  "nbformat_minor": 0,
  "metadata": {
    "colab": {
      "provenance": [],
      "authorship_tag": "ABX9TyPY65yQ/8HgZYQ7wo3f4sJu",
      "include_colab_link": true
    },
    "kernelspec": {
      "name": "python3",
      "display_name": "Python 3"
    },
    "language_info": {
      "name": "python"
    }
  },
  "cells": [
    {
      "cell_type": "markdown",
      "metadata": {
        "id": "view-in-github",
        "colab_type": "text"
      },
      "source": [
        "<a href=\"https://colab.research.google.com/github/emredeveloper/Data-Preprocessing/blob/master/Outlier.ipynb\" target=\"_parent\"><img src=\"https://colab.research.google.com/assets/colab-badge.svg\" alt=\"Open In Colab\"/></a>"
      ]
    },
    {
      "cell_type": "code",
      "execution_count": 3,
      "metadata": {
        "colab": {
          "base_uri": "https://localhost:8080/"
        },
        "id": "Ep8QUmKU6JaY",
        "outputId": "6e31f6a0-b989-4ef4-eb17-df18e7c4a1de"
      },
      "outputs": [
        {
          "output_type": "stream",
          "name": "stdout",
          "text": [
            "   PRICE  anomaly_score  outlier\n",
            "0    100              1    False\n",
            "1    200              1    False\n",
            "2    150              1    False\n",
            "3    250              1    False\n",
            "4    300              1    False\n",
            "5   1000             -1     True\n"
          ]
        },
        {
          "output_type": "stream",
          "name": "stderr",
          "text": [
            "/usr/local/lib/python3.10/dist-packages/sklearn/base.py:439: UserWarning: X does not have valid feature names, but IsolationForest was fitted with feature names\n",
            "  warnings.warn(\n"
          ]
        }
      ],
      "source": [
        "import pandas as pd\n",
        "from sklearn.ensemble import IsolationForest\n",
        "\n",
        "# Örnek veri\n",
        "data = {\n",
        "    \"PRICE\": [100, 200, 150, 250, 300, 1000]  # Aykırı değer olarak 1000 var\n",
        "}\n",
        "\n",
        "# DataFrame oluşturma\n",
        "df = pd.DataFrame(data)\n",
        "\n",
        "# Isolation Forest modelini oluşturma\n",
        "iso_forest = IsolationForest(contamination=0.1)  # contamination parametresi, veri setindeki aykırı değer oranını belirler\n",
        "df[\"anomaly_score\"] = iso_forest.fit_predict(df[[\"PRICE\"]])\n",
        "\n",
        "# Aykırı değerleri tespit etme (anomaly_score -1 ise aykırı)\n",
        "df[\"outlier\"] = df[\"anomaly_score\"] == -1\n",
        "\n",
        "print(df)\n"
      ]
    },
    {
      "cell_type": "code",
      "source": [
        "import pandas as pd\n",
        "from sklearn.neighbors import LocalOutlierFactor\n",
        "\n",
        "# Örnek veri\n",
        "data = {\n",
        "    \"PRICE\": [100, 200, 150, 250, 300, 1000]  # Aykırı değer olarak 1000 var\n",
        "}\n",
        "\n",
        "# DataFrame oluşturma\n",
        "df = pd.DataFrame(data)\n",
        "\n",
        "# LOF modelini oluşturma\n",
        "lof = LocalOutlierFactor(n_neighbors=20, contamination=0.1)  # n_neighbors ve contamination parametreleri ayarlanabilir\n",
        "df[\"anomaly_score\"] = lof.fit_predict(df[[\"PRICE\"]])\n",
        "\n",
        "# Aykırı değerleri tespit etme (anomaly_score -1 ise aykırı)\n",
        "df[\"outlier\"] = df[\"anomaly_score\"] == -1\n",
        "\n",
        "print(df)\n"
      ],
      "metadata": {
        "colab": {
          "base_uri": "https://localhost:8080/"
        },
        "id": "T_Uk1tnC6MBK",
        "outputId": "7d4f76f4-bc79-4761-c2a0-ecc69992fb21"
      },
      "execution_count": 4,
      "outputs": [
        {
          "output_type": "stream",
          "name": "stderr",
          "text": [
            "/usr/local/lib/python3.10/dist-packages/sklearn/neighbors/_lof.py:282: UserWarning: n_neighbors (20) is greater than the total number of samples (6). n_neighbors will be set to (n_samples - 1) for estimation.\n",
            "  warnings.warn(\n"
          ]
        },
        {
          "output_type": "stream",
          "name": "stdout",
          "text": [
            "   PRICE  anomaly_score  outlier\n",
            "0    100              1    False\n",
            "1    200              1    False\n",
            "2    150              1    False\n",
            "3    250              1    False\n",
            "4    300             -1     True\n",
            "5   1000              1    False\n"
          ]
        }
      ]
    },
    {
      "cell_type": "code",
      "source": [
        "import pandas as pd\n",
        "from sklearn.ensemble import IsolationForest\n",
        "from sklearn.neighbors import LocalOutlierFactor\n",
        "\n",
        "# Gerçek veri setini yükleyin\n",
        "url = 'https://raw.githubusercontent.com/selva86/datasets/master/BostonHousing.csv'\n",
        "df = pd.read_csv(url)\n",
        "\n",
        "# PRICE sütununu seçme\n",
        "price_data = df[['medv']].copy()  # 'medv' sütunu Boston Housing veri setinde median value of owner-occupied homes olarak geçer\n",
        "\n",
        "# Isolation Forest modelini oluşturma ve uygulama\n",
        "iso_forest = IsolationForest(contamination=0.1, random_state=42)\n",
        "price_data[\"anomaly_score_iso\"] = iso_forest.fit_predict(price_data)\n",
        "\n",
        "# Aykırı değerleri tespit etme (anomaly_score -1 ise aykırı)\n",
        "price_data[\"outlier_iso\"] = price_data[\"anomaly_score_iso\"] == -1\n",
        "\n",
        "# LOF modelini oluşturma ve uygulama\n",
        "lof = LocalOutlierFactor(n_neighbors=20, contamination=0.1)\n",
        "price_data[\"anomaly_score_lof\"] = lof.fit_predict(price_data)\n",
        "\n",
        "# Aykırı değerleri tespit etme (anomaly_score -1 ise aykırı)\n",
        "price_data[\"outlier_lof\"] = price_data[\"anomaly_score_lof\"] == -1\n",
        "\n",
        "# Isolation Forest ile tespit edilen aykırı değerleri gösterme\n",
        "print(\"Isolation Forest ile tespit edilen aykırı değerler:\")\n",
        "print(price_data[price_data[\"outlier_iso\"] == True])\n",
        "\n",
        "# LOF ile tespit edilen aykırı değerleri gösterme\n",
        "print(\"\\nLOF ile tespit edilen aykırı değerler:\")\n",
        "print(price_data[price_data[\"outlier_lof\"] == True])\n"
      ],
      "metadata": {
        "colab": {
          "base_uri": "https://localhost:8080/"
        },
        "id": "lVsiUbLb6jtd",
        "outputId": "68aec90e-a2d2-4ca3-9869-3b5c997919ed"
      },
      "execution_count": 9,
      "outputs": [
        {
          "output_type": "stream",
          "name": "stdout",
          "text": [
            "Isolation Forest ile tespit edilen aykırı değerler:\n",
            "     medv  anomaly_score_iso  outlier_iso  anomaly_score_lof  outlier_lof\n",
            "97   38.7                 -1         True                 -1         True\n",
            "98   43.8                 -1         True                 -1         True\n",
            "157  41.3                 -1         True                 -1         True\n",
            "161  50.0                 -1         True                  1        False\n",
            "162  50.0                 -1         True                  1        False\n",
            "163  50.0                 -1         True                  1        False\n",
            "166  50.0                 -1         True                  1        False\n",
            "180  39.8                 -1         True                 -1         True\n",
            "182  37.9                 -1         True                 -1         True\n",
            "186  50.0                 -1         True                  1        False\n",
            "195  50.0                 -1         True                  1        False\n",
            "202  42.3                 -1         True                 -1         True\n",
            "203  48.5                 -1         True                  1        False\n",
            "204  50.0                 -1         True                  1        False\n",
            "224  44.8                 -1         True                 -1         True\n",
            "225  50.0                 -1         True                  1        False\n",
            "226  37.6                 -1         True                 -1         True\n",
            "228  46.7                 -1         True                  1        False\n",
            "232  41.7                 -1         True                 -1         True\n",
            "233  48.3                 -1         True                  1        False\n",
            "253  42.8                 -1         True                 -1         True\n",
            "256  44.0                 -1         True                 -1         True\n",
            "257  50.0                 -1         True                  1        False\n",
            "261  43.1                 -1         True                 -1         True\n",
            "262  48.8                 -1         True                  1        False\n",
            "267  50.0                 -1         True                  1        False\n",
            "268  43.5                 -1         True                 -1         True\n",
            "280  45.4                 -1         True                  1        False\n",
            "282  46.0                 -1         True                  1        False\n",
            "283  50.0                 -1         True                  1        False\n",
            "368  50.0                 -1         True                  1        False\n",
            "369  50.0                 -1         True                  1        False\n",
            "370  50.0                 -1         True                  1        False\n",
            "371  50.0                 -1         True                  1        False\n",
            "372  50.0                 -1         True                  1        False\n",
            "385   7.2                 -1         True                  1        False\n",
            "387   7.4                 -1         True                  1        False\n",
            "398   5.0                 -1         True                 -1         True\n",
            "399   6.3                 -1         True                 -1         True\n",
            "400   5.6                 -1         True                 -1         True\n",
            "401   7.2                 -1         True                  1        False\n",
            "403   8.3                 -1         True                  1        False\n",
            "405   5.0                 -1         True                 -1         True\n",
            "414   7.0                 -1         True                  1        False\n",
            "415   7.2                 -1         True                  1        False\n",
            "416   7.5                 -1         True                  1        False\n",
            "425   8.3                 -1         True                  1        False\n",
            "429   9.5                 -1         True                 -1         True\n",
            "436   9.6                 -1         True                 -1         True\n",
            "489   7.0                 -1         True                  1        False\n",
            "490   8.1                 -1         True                  1        False\n",
            "\n",
            "LOF ile tespit edilen aykırı değerler:\n",
            "     medv  anomaly_score_iso  outlier_iso  anomaly_score_lof  outlier_lof\n",
            "30   12.7                  1        False                 -1         True\n",
            "41   26.6                  1        False                 -1         True\n",
            "42   25.3                  1        False                 -1         True\n",
            "53   23.4                  1        False                 -1         True\n",
            "65   23.5                  1        False                 -1         True\n",
            "73   23.4                  1        False                 -1         True\n",
            "85   26.6                  1        False                 -1         True\n",
            "97   38.7                 -1         True                 -1         True\n",
            "98   43.8                 -1         True                 -1         True\n",
            "101  26.5                  1        False                 -1         True\n",
            "157  41.3                 -1         True                 -1         True\n",
            "179  37.2                  1        False                 -1         True\n",
            "180  39.8                 -1         True                 -1         True\n",
            "182  37.9                 -1         True                 -1         True\n",
            "184  26.4                  1        False                 -1         True\n",
            "202  42.3                 -1         True                 -1         True\n",
            "224  44.8                 -1         True                 -1         True\n",
            "226  37.6                 -1         True                 -1         True\n",
            "232  41.7                 -1         True                 -1         True\n",
            "249  26.2                  1        False                 -1         True\n",
            "253  42.8                 -1         True                 -1         True\n",
            "256  44.0                 -1         True                 -1         True\n",
            "261  43.1                 -1         True                 -1         True\n",
            "268  43.5                 -1         True                 -1         True\n",
            "271  25.2                  1        False                 -1         True\n",
            "291  37.3                  1        False                 -1         True\n",
            "302  26.4                  1        False                 -1         True\n",
            "349  26.6                  1        False                 -1         True\n",
            "379  10.2                  1        False                 -1         True\n",
            "383  12.3                  1        False                 -1         True\n",
            "384   8.8                  1        False                 -1         True\n",
            "388  10.2                  1        False                 -1         True\n",
            "392   9.7                  1        False                 -1         True\n",
            "394  12.7                  1        False                 -1         True\n",
            "396  12.5                  1        False                 -1         True\n",
            "397   8.5                  1        False                 -1         True\n",
            "398   5.0                 -1         True                 -1         True\n",
            "399   6.3                 -1         True                 -1         True\n",
            "400   5.6                 -1         True                 -1         True\n",
            "402  12.1                  1        False                 -1         True\n",
            "404   8.5                  1        False                 -1         True\n",
            "405   5.0                 -1         True                 -1         True\n",
            "418   8.8                  1        False                 -1         True\n",
            "419   8.4                  1        False                 -1         True\n",
            "426  10.2                  1        False                 -1         True\n",
            "429   9.5                 -1         True                 -1         True\n",
            "436   9.6                 -1         True                 -1         True\n",
            "437   8.7                  1        False                 -1         True\n",
            "438   8.4                  1        False                 -1         True\n",
            "447  12.6                  1        False                 -1         True\n",
            "456  12.7                  1        False                 -1         True\n"
          ]
        },
        {
          "output_type": "stream",
          "name": "stderr",
          "text": [
            "/usr/local/lib/python3.10/dist-packages/sklearn/base.py:439: UserWarning: X does not have valid feature names, but IsolationForest was fitted with feature names\n",
            "  warnings.warn(\n"
          ]
        }
      ]
    }
  ]
}