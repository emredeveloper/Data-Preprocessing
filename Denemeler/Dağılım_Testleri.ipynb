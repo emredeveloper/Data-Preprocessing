{
  "nbformat": 4,
  "nbformat_minor": 0,
  "metadata": {
    "colab": {
      "provenance": [],
      "authorship_tag": "ABX9TyNIfLaa+FK7QPVeajAOo8Ri",
      "include_colab_link": true
    },
    "kernelspec": {
      "name": "python3",
      "display_name": "Python 3"
    },
    "language_info": {
      "name": "python"
    }
  },
  "cells": [
    {
      "cell_type": "markdown",
      "metadata": {
        "id": "view-in-github",
        "colab_type": "text"
      },
      "source": [
        "<a href=\"https://colab.research.google.com/github/emredeveloper/Data-Preprocessing/blob/master/Da%C4%9F%C4%B1l%C4%B1m_Testleri.ipynb\" target=\"_parent\"><img src=\"https://colab.research.google.com/assets/colab-badge.svg\" alt=\"Open In Colab\"/></a>"
      ]
    },
    {
      "cell_type": "code",
      "execution_count": 11,
      "metadata": {
        "colab": {
          "base_uri": "https://localhost:8080/"
        },
        "id": "l1pSCpAahy7J",
        "outputId": "283d0366-995a-4ff6-a256-6618ec6cac83"
      },
      "outputs": [
        {
          "output_type": "stream",
          "name": "stdout",
          "text": [
            "Verinin normal dağılıma uygunluğu:\n",
            "Shapiro-Wilk Test: Normal\n",
            "KS Test: Normal\n",
            "Anderson-Darling Test: Normal\n",
            "Lilliefors Test: Normal\n"
          ]
        }
      ],
      "source": [
        "import numpy as np\n",
        "from scipy import stats\n",
        "import statsmodels.api as sm\n",
        "\n",
        "def check_normality(data):\n",
        "    # Shapiro-Wilk testi\n",
        "    shapiro_stat, shapiro_p_value = stats.shapiro(data)\n",
        "    shapiro_result = \"Normal\" if shapiro_p_value > 0.05 else \"Normal değil\"\n",
        "\n",
        "    # KS testi\n",
        "    ks_stat, ks_p_value = stats.kstest(data, 'norm')\n",
        "    ks_result = \"Normal\" if ks_p_value > 0.05 else \"Normal değil\"\n",
        "\n",
        "    # Anderson-Darling testi\n",
        "    anderson_stat, anderson_critical_values, _ = stats.anderson(data, dist='norm')\n",
        "    anderson_result = \"Normal\" if anderson_stat < anderson_critical_values[2] else \"Normal değil\"\n",
        "\n",
        "    # Lilliefors testi\n",
        "    lilliefors_stat, lilliefors_p_value = sm.stats.diagnostic.lilliefors(data)\n",
        "    lilliefors_result = \"Normal\" if lilliefors_p_value > 0.05 else \"Normal değil\"\n",
        "\n",
        "    return {\n",
        "        \"Shapiro-Wilk Test\": shapiro_result,\n",
        "        \"KS Test\": ks_result,\n",
        "        \"Anderson-Darling Test\": anderson_result,\n",
        "        \"Lilliefors Test\": lilliefors_result\n",
        "    }\n",
        "\n",
        "# Örnek veri oluştur\n",
        "np.random.seed(0)\n",
        "sample_data = np.random.normal(loc=0, scale=1, size=100)\n",
        "\n",
        "# Veri normal mi değil mi kontrol et\n",
        "normality_results = check_normality(sample_data)\n",
        "\n",
        "# Sonuçları raporla\n",
        "print(\"Verinin normal dağılıma uygunluğu:\")\n",
        "for test, result in normality_results.items():\n",
        "    print(f\"{test}: {result}\")\n"
      ]
    },
    {
      "cell_type": "code",
      "source": [
        "sample_data"
      ],
      "metadata": {
        "colab": {
          "base_uri": "https://localhost:8080/"
        },
        "id": "oerrIiaviogo",
        "outputId": "527b6e07-b5fb-4a30-fe27-cf13aa8e442f"
      },
      "execution_count": 12,
      "outputs": [
        {
          "output_type": "execute_result",
          "data": {
            "text/plain": [
              "array([ 1.76405235,  0.40015721,  0.97873798,  2.2408932 ,  1.86755799,\n",
              "       -0.97727788,  0.95008842, -0.15135721, -0.10321885,  0.4105985 ,\n",
              "        0.14404357,  1.45427351,  0.76103773,  0.12167502,  0.44386323,\n",
              "        0.33367433,  1.49407907, -0.20515826,  0.3130677 , -0.85409574,\n",
              "       -2.55298982,  0.6536186 ,  0.8644362 , -0.74216502,  2.26975462,\n",
              "       -1.45436567,  0.04575852, -0.18718385,  1.53277921,  1.46935877,\n",
              "        0.15494743,  0.37816252, -0.88778575, -1.98079647, -0.34791215,\n",
              "        0.15634897,  1.23029068,  1.20237985, -0.38732682, -0.30230275,\n",
              "       -1.04855297, -1.42001794, -1.70627019,  1.9507754 , -0.50965218,\n",
              "       -0.4380743 , -1.25279536,  0.77749036, -1.61389785, -0.21274028,\n",
              "       -0.89546656,  0.3869025 , -0.51080514, -1.18063218, -0.02818223,\n",
              "        0.42833187,  0.06651722,  0.3024719 , -0.63432209, -0.36274117,\n",
              "       -0.67246045, -0.35955316, -0.81314628, -1.7262826 ,  0.17742614,\n",
              "       -0.40178094, -1.63019835,  0.46278226, -0.90729836,  0.0519454 ,\n",
              "        0.72909056,  0.12898291,  1.13940068, -1.23482582,  0.40234164,\n",
              "       -0.68481009, -0.87079715, -0.57884966, -0.31155253,  0.05616534,\n",
              "       -1.16514984,  0.90082649,  0.46566244, -1.53624369,  1.48825219,\n",
              "        1.89588918,  1.17877957, -0.17992484, -1.07075262,  1.05445173,\n",
              "       -0.40317695,  1.22244507,  0.20827498,  0.97663904,  0.3563664 ,\n",
              "        0.70657317,  0.01050002,  1.78587049,  0.12691209,  0.40198936])"
            ]
          },
          "metadata": {},
          "execution_count": 12
        }
      ]
    }
  ]
}