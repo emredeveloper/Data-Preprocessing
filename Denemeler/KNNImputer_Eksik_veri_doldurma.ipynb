{
  "nbformat": 4,
  "nbformat_minor": 0,
  "metadata": {
    "colab": {
      "provenance": [],
      "authorship_tag": "ABX9TyPXq2i3p4Hyf/mx7p1FABzE",
      "include_colab_link": true
    },
    "kernelspec": {
      "name": "python3",
      "display_name": "Python 3"
    },
    "language_info": {
      "name": "python"
    }
  },
  "cells": [
    {
      "cell_type": "markdown",
      "metadata": {
        "id": "view-in-github",
        "colab_type": "text"
      },
      "source": [
        "<a href=\"https://colab.research.google.com/github/emredeveloper/Data-Preprocessing/blob/master/KNNImputer_Eksik_veri_doldurma.ipynb\" target=\"_parent\"><img src=\"https://colab.research.google.com/assets/colab-badge.svg\" alt=\"Open In Colab\"/></a>"
      ]
    },
    {
      "cell_type": "code",
      "execution_count": 1,
      "metadata": {
        "colab": {
          "base_uri": "https://localhost:8080/"
        },
        "id": "Nf79E8ezsutp",
        "outputId": "f1f41a6b-e1bc-4cf8-fd85-43df20c2181a"
      },
      "outputs": [
        {
          "output_type": "stream",
          "name": "stdout",
          "text": [
            "KNN Imputed Data:\n",
            "[[0.5488135  0.71518937 0.60276338 0.95370542 0.4236548 ]\n",
            " [0.5832245  0.43758721 0.891773   0.96366276 0.38344152]\n",
            " [0.76371592 0.75717397 0.56804456 0.87209597 0.27096461]\n",
            " [0.0871293  0.0202184  0.74726819 0.77815675 0.20111566]\n",
            " [0.97861834 0.79915856 0.46147936 0.78052918 0.11827443]\n",
            " [0.2233186  0.14335329 0.67662618 0.52184832 0.52510412]\n",
            " [0.26455561 0.77423369 0.74726819 0.56843395 0.0187898 ]\n",
            " [0.6176355  0.61209572 0.74726819 0.94374808 0.6818203 ]\n",
            " [0.3595079  0.43703195 0.74726819 0.06022547 0.66676672]\n",
            " [0.2233186  0.21038256 0.74726819 0.31542835 0.34277826]]\n",
            "Accuracy after Imputation: 1.0\n"
          ]
        }
      ],
      "source": [
        "import numpy as np\n",
        "import pandas as pd\n",
        "from sklearn.impute import KNNImputer\n",
        "from sklearn.ensemble import RandomForestClassifier\n",
        "from sklearn.metrics import accuracy_score\n",
        "\n",
        "# Örnek veri seti oluşturma\n",
        "np.random.seed(0)\n",
        "data = np.random.rand(10, 5)  # 10 satır, 5 sütunlu rastgele veri seti\n",
        "data[np.random.rand(10, 5) < 0.2] = np.nan  # %20 oranında eksik veri oluştur\n",
        "\n",
        "# KNN Imputation\n",
        "knn_imputer = KNNImputer(n_neighbors=2)\n",
        "data_knn_imputed = knn_imputer.fit_transform(data)\n",
        "print(\"KNN Imputed Data:\")\n",
        "print(data_knn_imputed)\n",
        "\n",
        "# MissForest Imputation\n",
        "# Öncelikle RandomForestClassifier eğitimi ve eksik verili veri setinin düzeltilmesi\n",
        "model = RandomForestClassifier(n_estimators=100, random_state=0)\n",
        "X = pd.DataFrame(data_knn_imputed)  # KNN ile doldurulmuş veri seti bir DataFrame'e dönüştürüldü\n",
        "X = X.fillna(X.mean())  # Eksik değerler yerine ortalama değerler doldurulabilir\n",
        "\n",
        "# Modeli eğitme (örnek olarak)\n",
        "y = np.random.randint(0, 2, 10)  # Gözlem sınıfları (örnek veri için)\n",
        "model.fit(X, y)\n",
        "\n",
        "# Yeni veri setinde eksik değerleri doldurma\n",
        "X_imputed = model.predict(X)\n",
        "\n",
        "# Basit accuracy hesaplama (örnek olarak)\n",
        "y_pred = model.predict(X)\n",
        "accuracy = accuracy_score(y, y_pred)\n",
        "print(f\"Accuracy after Imputation: {accuracy}\")\n",
        "\n"
      ]
    },
    {
      "cell_type": "code",
      "source": [
        "data"
      ],
      "metadata": {
        "colab": {
          "base_uri": "https://localhost:8080/"
        },
        "id": "P-izjbbCs3oF",
        "outputId": "25e788f2-ac6f-4686-bcd8-f42249500678"
      },
      "execution_count": 2,
      "outputs": [
        {
          "output_type": "execute_result",
          "data": {
            "text/plain": [
              "array([[0.5488135 , 0.71518937, 0.60276338,        nan, 0.4236548 ],\n",
              "       [       nan, 0.43758721, 0.891773  , 0.96366276, 0.38344152],\n",
              "       [       nan,        nan, 0.56804456,        nan,        nan],\n",
              "       [0.0871293 , 0.0202184 ,        nan, 0.77815675,        nan],\n",
              "       [0.97861834, 0.79915856, 0.46147936, 0.78052918, 0.11827443],\n",
              "       [       nan, 0.14335329,        nan, 0.52184832,        nan],\n",
              "       [0.26455561, 0.77423369,        nan, 0.56843395, 0.0187898 ],\n",
              "       [0.6176355 , 0.61209572,        nan, 0.94374808, 0.6818203 ],\n",
              "       [0.3595079 , 0.43703195,        nan, 0.06022547, 0.66676672],\n",
              "       [       nan, 0.21038256,        nan, 0.31542835,        nan]])"
            ]
          },
          "metadata": {},
          "execution_count": 2
        }
      ]
    }
  ]
}